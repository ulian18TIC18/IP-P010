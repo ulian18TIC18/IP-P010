{
 "cells": [
  {
   "cell_type": "markdown",
   "id": "653b7834",
   "metadata": {},
   "source": [
    "\n",
    "# INSTRUÇÃO PRÁTICA - IP-P010 - ETAPA 2 - PLOTAGEM\n",
    "## PP - PROGRAMAÇÃO EM PYTHON\n",
    "\n",
    "### RESIDENTE: JOSE ULIAN CARDOSO ALMEIDA\n",
    "\n"
   ]
  },
  {
   "cell_type": "code",
   "execution_count": 1,
   "id": "cd604a06",
   "metadata": {},
   "outputs": [],
   "source": [
    "import pandas as pd\n",
    "from faker import Faker\n",
    "import numpy as np\n",
    "import matplotlib.pyplot as plt\n"
   ]
  },
  {
   "cell_type": "code",
   "execution_count": 2,
   "id": "a504c54d",
   "metadata": {},
   "outputs": [],
   "source": [
    "fake = Faker('pt_BR')  # Configuração para gerar dados em português do Brasil"
   ]
  },
  {
   "cell_type": "code",
   "execution_count": 3,
   "id": "06f50374",
   "metadata": {},
   "outputs": [],
   "source": [
    "# Gerar dados aleatórios\n",
    "np.random.seed(50)"
   ]
  },
  {
   "cell_type": "code",
   "execution_count": 4,
   "id": "792003d9",
   "metadata": {},
   "outputs": [],
   "source": [
    "nomes = [fake.name() for _ in range(1000)]\n",
    "sexos = np.random.choice(['M', 'F'], size=1000)\n",
    "idades = np.random.randint(18, 29, size=1000)\n",
    "emails = [fake.email() for _ in range(1000)]\n",
    "notas_enem = np.random.randint(640, 801, size=1000)\n",
    "cra_2_sem = np.random.uniform(5, 10, size=1000)\n",
    "cra_4_sem = np.random.uniform(5, 10, size=1000)\n",
    "cra_6_sem = np.random.uniform(5, 10, size=1000)\n",
    "abandonos = np.random.choice([True, False], size=1000)\n",
    "semestre_abandono = np.random.randint(1, 11, size=1000)"
   ]
  },
  {
   "cell_type": "code",
   "execution_count": 5,
   "id": "7f8bf5db",
   "metadata": {},
   "outputs": [],
   "source": [
    "# Ajustar CRAs após o semestre de abandono\n",
    "for i in range(1000):\n",
    "    if abandonos[i]:\n",
    "        if semestre_abandono[i] <= 2:\n",
    "            cra_2_sem[i] = np.nan\n",
    "        elif semestre_abandono[i] <= 4:\n",
    "            cra_4_sem[i] = np.nan\n",
    "        elif semestre_abandono[i] <= 6:\n",
    "            cra_6_sem[i] = np.nan"
   ]
  },
  {
   "cell_type": "code",
   "execution_count": 6,
   "id": "e1bd5aad",
   "metadata": {},
   "outputs": [],
   "source": [
    "# Criar DataFrame\n",
    "data = {\n",
    "    'Nome': nomes,\n",
    "    'CPF': [fake.cpf() for _ in range(1000)],\n",
    "    'Idade': idades,\n",
    "    'Sexo': sexos,\n",
    "    'Email': emails,\n",
    "    'Nota_ENEM': notas_enem,\n",
    "    'CRA_2º_Semestre': cra_2_sem,\n",
    "    'CRA_4º_Semestre': cra_4_sem,\n",
    "    'CRA_6º_Semestre': cra_6_sem,\n",
    "    'Abandono': abandonos,\n",
    "    'Semestre_Abandono': semestre_abandono\n",
    "}"
   ]
  },
  {
   "cell_type": "code",
   "execution_count": 7,
   "id": "aff3b22b",
   "metadata": {},
   "outputs": [],
   "source": [
    "df = pd.DataFrame(data)"
   ]
  },
  {
   "cell_type": "code",
   "execution_count": 8,
   "id": "ad6160ae",
   "metadata": {},
   "outputs": [
    {
     "data": {
      "text/html": [
       "<div>\n",
       "<style scoped>\n",
       "    .dataframe tbody tr th:only-of-type {\n",
       "        vertical-align: middle;\n",
       "    }\n",
       "\n",
       "    .dataframe tbody tr th {\n",
       "        vertical-align: top;\n",
       "    }\n",
       "\n",
       "    .dataframe thead th {\n",
       "        text-align: right;\n",
       "    }\n",
       "</style>\n",
       "<table border=\"1\" class=\"dataframe\">\n",
       "  <thead>\n",
       "    <tr style=\"text-align: right;\">\n",
       "      <th></th>\n",
       "      <th>Nome</th>\n",
       "      <th>CPF</th>\n",
       "      <th>Idade</th>\n",
       "      <th>Sexo</th>\n",
       "      <th>Email</th>\n",
       "      <th>Nota_ENEM</th>\n",
       "      <th>CRA_2º_Semestre</th>\n",
       "      <th>CRA_4º_Semestre</th>\n",
       "      <th>CRA_6º_Semestre</th>\n",
       "      <th>Abandono</th>\n",
       "      <th>Semestre_Abandono</th>\n",
       "    </tr>\n",
       "  </thead>\n",
       "  <tbody>\n",
       "    <tr>\n",
       "      <th>0</th>\n",
       "      <td>Melissa Silveira</td>\n",
       "      <td>359.847.162-91</td>\n",
       "      <td>22</td>\n",
       "      <td>M</td>\n",
       "      <td>bdas-neves@example.com</td>\n",
       "      <td>771</td>\n",
       "      <td>NaN</td>\n",
       "      <td>5.491834</td>\n",
       "      <td>5.495809</td>\n",
       "      <td>True</td>\n",
       "      <td>1</td>\n",
       "    </tr>\n",
       "    <tr>\n",
       "      <th>1</th>\n",
       "      <td>Sofia Mendes</td>\n",
       "      <td>360.852.471-17</td>\n",
       "      <td>20</td>\n",
       "      <td>M</td>\n",
       "      <td>stephanyfogaca@example.org</td>\n",
       "      <td>777</td>\n",
       "      <td>6.466784</td>\n",
       "      <td>5.570117</td>\n",
       "      <td>8.355556</td>\n",
       "      <td>False</td>\n",
       "      <td>7</td>\n",
       "    </tr>\n",
       "    <tr>\n",
       "      <th>2</th>\n",
       "      <td>Srta. Agatha Rezende</td>\n",
       "      <td>247.590.318-04</td>\n",
       "      <td>22</td>\n",
       "      <td>F</td>\n",
       "      <td>joao-lucas90@example.com</td>\n",
       "      <td>770</td>\n",
       "      <td>9.559240</td>\n",
       "      <td>7.459101</td>\n",
       "      <td>7.298546</td>\n",
       "      <td>False</td>\n",
       "      <td>9</td>\n",
       "    </tr>\n",
       "    <tr>\n",
       "      <th>3</th>\n",
       "      <td>Thales Nogueira</td>\n",
       "      <td>941.536.207-34</td>\n",
       "      <td>20</td>\n",
       "      <td>F</td>\n",
       "      <td>helenasilva@example.com</td>\n",
       "      <td>658</td>\n",
       "      <td>NaN</td>\n",
       "      <td>8.187005</td>\n",
       "      <td>7.770323</td>\n",
       "      <td>True</td>\n",
       "      <td>2</td>\n",
       "    </tr>\n",
       "    <tr>\n",
       "      <th>4</th>\n",
       "      <td>Sr. Emanuel Aragão</td>\n",
       "      <td>025.349.178-97</td>\n",
       "      <td>25</td>\n",
       "      <td>F</td>\n",
       "      <td>maria-eduardada-costa@example.net</td>\n",
       "      <td>787</td>\n",
       "      <td>9.227646</td>\n",
       "      <td>5.956309</td>\n",
       "      <td>8.626647</td>\n",
       "      <td>True</td>\n",
       "      <td>8</td>\n",
       "    </tr>\n",
       "  </tbody>\n",
       "</table>\n",
       "</div>"
      ],
      "text/plain": [
       "                   Nome             CPF  Idade Sexo  \\\n",
       "0      Melissa Silveira  359.847.162-91     22    M   \n",
       "1          Sofia Mendes  360.852.471-17     20    M   \n",
       "2  Srta. Agatha Rezende  247.590.318-04     22    F   \n",
       "3       Thales Nogueira  941.536.207-34     20    F   \n",
       "4    Sr. Emanuel Aragão  025.349.178-97     25    F   \n",
       "\n",
       "                               Email  Nota_ENEM  CRA_2º_Semestre  \\\n",
       "0             bdas-neves@example.com        771              NaN   \n",
       "1         stephanyfogaca@example.org        777         6.466784   \n",
       "2           joao-lucas90@example.com        770         9.559240   \n",
       "3            helenasilva@example.com        658              NaN   \n",
       "4  maria-eduardada-costa@example.net        787         9.227646   \n",
       "\n",
       "   CRA_4º_Semestre  CRA_6º_Semestre  Abandono  Semestre_Abandono  \n",
       "0         5.491834         5.495809      True                  1  \n",
       "1         5.570117         8.355556     False                  7  \n",
       "2         7.459101         7.298546     False                  9  \n",
       "3         8.187005         7.770323      True                  2  \n",
       "4         5.956309         8.626647      True                  8  "
      ]
     },
     "execution_count": 8,
     "metadata": {},
     "output_type": "execute_result"
    }
   ],
   "source": [
    "# Visualizar as primeiras linhas do DataFrame\n",
    "df.head()\n",
    "#df.to_csv('dados_alunos.csv', index=False)"
   ]
  },
  {
   "cell_type": "code",
   "execution_count": 9,
   "id": "5b2678c1",
   "metadata": {},
   "outputs": [
    {
     "data": {
      "text/plain": [
       "RangeIndex(start=0, stop=1000, step=1)"
      ]
     },
     "execution_count": 9,
     "metadata": {},
     "output_type": "execute_result"
    }
   ],
   "source": [
    "df.index"
   ]
  },
  {
   "cell_type": "code",
   "execution_count": 10,
   "id": "8ee13cd7",
   "metadata": {},
   "outputs": [],
   "source": [
    "#df.to_csv('dados_alunos.csv', index=False)"
   ]
  },
  {
   "cell_type": "code",
   "execution_count": 11,
   "id": "389a854b",
   "metadata": {},
   "outputs": [],
   "source": [
    "contagem_sexo = df['Sexo'].value_counts()"
   ]
  },
  {
   "cell_type": "code",
   "execution_count": 12,
   "id": "a2f8e5eb",
   "metadata": {},
   "outputs": [
    {
     "name": "stdout",
     "output_type": "stream",
     "text": [
      "A divisão por gênero é: Sexo\n",
      "F    523\n",
      "M    477\n",
      "Name: count, dtype: int64\n"
     ]
    }
   ],
   "source": [
    "print('A divisão por gênero é:', contagem_sexo)"
   ]
  },
  {
   "cell_type": "markdown",
   "id": "684395d6",
   "metadata": {},
   "source": [
    "### 1. Identifique qual q relação de alunos de sexo masculino e feminino no conjunto.\n",
    "### Será observador o percentual de cada gênero."
   ]
  },
  {
   "cell_type": "code",
   "execution_count": 13,
   "id": "5d6485c7",
   "metadata": {},
   "outputs": [],
   "source": [
    "contagem_masculino = sum(1 for sexo in df['Sexo'] if sexo == 'M')"
   ]
  },
  {
   "cell_type": "code",
   "execution_count": 14,
   "id": "5cc0b78f",
   "metadata": {},
   "outputs": [],
   "source": [
    "contagem_feminino = sum(1 for sexo in df['Sexo'] if sexo == 'F')"
   ]
  },
  {
   "cell_type": "code",
   "execution_count": 15,
   "id": "256f5803",
   "metadata": {},
   "outputs": [
    {
     "name": "stdout",
     "output_type": "stream",
     "text": [
      "Percentual por gênero\n",
      "Masculino:  47.7 %\n",
      "Feminino:  52.3 %\n"
     ]
    }
   ],
   "source": [
    "print('Percentual por gênero')\n",
    "print('Masculino: ', contagem_masculino / 10, '%')\n",
    "print('Feminino: ', contagem_feminino / 10, '%')"
   ]
  },
  {
   "cell_type": "code",
   "execution_count": 16,
   "id": "aae0802d",
   "metadata": {},
   "outputs": [
    {
     "data": {
      "text/plain": [
       "Index(['Nome', 'CPF', 'Idade', 'Sexo', 'Email', 'Nota_ENEM', 'CRA_2º_Semestre',\n",
       "       'CRA_4º_Semestre', 'CRA_6º_Semestre', 'Abandono', 'Semestre_Abandono'],\n",
       "      dtype='object')"
      ]
     },
     "execution_count": 16,
     "metadata": {},
     "output_type": "execute_result"
    }
   ],
   "source": [
    "df.columns"
   ]
  },
  {
   "cell_type": "code",
   "execution_count": 17,
   "id": "ac65ab3a",
   "metadata": {},
   "outputs": [],
   "source": [
    "def plot_pizza_divisao_por_sexo(df):\n",
    "    contagem_masculino = (df['Sexo'] == 'M').sum()\n",
    "    contagem_feminino = (df['Sexo'] == 'F').sum()\n",
    "    num_linhas = len(df)\n",
    "    percentual_masculino = contagem_masculino / num_linhas * 100\n",
    "    percentual_feminino = contagem_feminino / num_linhas * 100\n",
    "    \n",
    "    #Repassando apenas a coluna de plotagem.\n",
    "    df_percentual_sexo = pd.DataFrame({\n",
    "        'Sexo': ['Masculino', 'Feminino'],\n",
    "        'Percentual': [percentual_masculino, percentual_feminino]\n",
    "    })\n",
    "\n",
    "    plt.figure(figsize=(3, 2))\n",
    "    plt.pie(df_percentual_sexo['Percentual'], labels=df_percentual_sexo['Sexo'], autopct='%1.1f%%', startangle=140)\n",
    "    plt.title('DIVISÃO POR SEXO')\n",
    "    plt.axis('equal')\n",
    "    plt.show()"
   ]
  },
  {
   "cell_type": "code",
   "execution_count": 18,
   "id": "aff92f9d",
   "metadata": {},
   "outputs": [
    {
     "data": {
      "image/png": "[encoded data removed]",
      "text/plain": [
       "<Figure size 300x200 with 1 Axes>"
      ]
     },
     "metadata": {},
     "output_type": "display_data"
    }
   ],
   "source": [
    "plot_pizza_divisao_por_sexo(df)"
   ]
  },
  {
   "cell_type": "code",
   "execution_count": 19,
   "id": "d320b9d1",
   "metadata": {
    "scrolled": true
   },
   "outputs": [
    {
     "data": {
      "text/plain": [
       "Index(['Nome', 'CPF', 'Idade', 'Sexo', 'Email', 'Nota_ENEM', 'CRA_2º_Semestre',\n",
       "       'CRA_4º_Semestre', 'CRA_6º_Semestre', 'Abandono', 'Semestre_Abandono'],\n",
       "      dtype='object')"
      ]
     },
     "execution_count": 19,
     "metadata": {},
     "output_type": "execute_result"
    }
   ],
   "source": [
    "df.columns"
   ]
  },
  {
   "cell_type": "code",
   "execution_count": 20,
   "id": "addb385a",
   "metadata": {},
   "outputs": [],
   "source": [
    "media_enem_18_ate_28_anos = df.loc[(df['Idade'] >= 18) & (df['Idade'] <= 28), 'Nota_ENEM'].mean()"
   ]
  },
  {
   "cell_type": "code",
   "execution_count": 21,
   "id": "990c10fb",
   "metadata": {},
   "outputs": [
    {
     "name": "stdout",
     "output_type": "stream",
     "text": [
      "Pontuação média no ENEM: 721.494\n"
     ]
    }
   ],
   "source": [
    "print('Pontuação média no ENEM:', media_enem_18_ate_28_anos)"
   ]
  },
  {
   "cell_type": "code",
   "execution_count": 22,
   "id": "f19eff4d",
   "metadata": {},
   "outputs": [],
   "source": [
    "nota_enem_min = 640\n",
    "nota_enem_max = 801\n",
    "\n",
    "nota_normalizada_min = 5\n",
    "nota_normalizada_max = 10"
   ]
  },
  {
   "cell_type": "code",
   "execution_count": 23,
   "id": "bee230f6",
   "metadata": {},
   "outputs": [],
   "source": [
    "nota_ponderada = (nota_normalizada_max - nota_normalizada_min) / (nota_enem_max - nota_enem_min)"
   ]
  },
  {
   "cell_type": "code",
   "execution_count": 24,
   "id": "9b4d9d24",
   "metadata": {},
   "outputs": [],
   "source": [
    "df['Nota_ENEM_Ponderada'] = nota_normalizada_min + nota_ponderada * (df['Nota_ENEM'] - nota_enem_min)"
   ]
  },
  {
   "cell_type": "code",
   "execution_count": 25,
   "id": "5c542f09",
   "metadata": {},
   "outputs": [
    {
     "data": {
      "text/html": [
       "<div>\n",
       "<style scoped>\n",
       "    .dataframe tbody tr th:only-of-type {\n",
       "        vertical-align: middle;\n",
       "    }\n",
       "\n",
       "    .dataframe tbody tr th {\n",
       "        vertical-align: top;\n",
       "    }\n",
       "\n",
       "    .dataframe thead th {\n",
       "        text-align: right;\n",
       "    }\n",
       "</style>\n",
       "<table border=\"1\" class=\"dataframe\">\n",
       "  <thead>\n",
       "    <tr style=\"text-align: right;\">\n",
       "      <th></th>\n",
       "      <th>Nome</th>\n",
       "      <th>CPF</th>\n",
       "      <th>Idade</th>\n",
       "      <th>Sexo</th>\n",
       "      <th>Email</th>\n",
       "      <th>Nota_ENEM</th>\n",
       "      <th>CRA_2º_Semestre</th>\n",
       "      <th>CRA_4º_Semestre</th>\n",
       "      <th>CRA_6º_Semestre</th>\n",
       "      <th>Abandono</th>\n",
       "      <th>Semestre_Abandono</th>\n",
       "      <th>Nota_ENEM_Ponderada</th>\n",
       "    </tr>\n",
       "  </thead>\n",
       "  <tbody>\n",
       "    <tr>\n",
       "      <th>0</th>\n",
       "      <td>Melissa Silveira</td>\n",
       "      <td>359.847.162-91</td>\n",
       "      <td>22</td>\n",
       "      <td>M</td>\n",
       "      <td>bdas-neves@example.com</td>\n",
       "      <td>771</td>\n",
       "      <td>NaN</td>\n",
       "      <td>5.491834</td>\n",
       "      <td>5.495809</td>\n",
       "      <td>True</td>\n",
       "      <td>1</td>\n",
       "      <td>9.068323</td>\n",
       "    </tr>\n",
       "    <tr>\n",
       "      <th>1</th>\n",
       "      <td>Sofia Mendes</td>\n",
       "      <td>360.852.471-17</td>\n",
       "      <td>20</td>\n",
       "      <td>M</td>\n",
       "      <td>stephanyfogaca@example.org</td>\n",
       "      <td>777</td>\n",
       "      <td>6.466784</td>\n",
       "      <td>5.570117</td>\n",
       "      <td>8.355556</td>\n",
       "      <td>False</td>\n",
       "      <td>7</td>\n",
       "      <td>9.254658</td>\n",
       "    </tr>\n",
       "    <tr>\n",
       "      <th>2</th>\n",
       "      <td>Srta. Agatha Rezende</td>\n",
       "      <td>247.590.318-04</td>\n",
       "      <td>22</td>\n",
       "      <td>F</td>\n",
       "      <td>joao-lucas90@example.com</td>\n",
       "      <td>770</td>\n",
       "      <td>9.559240</td>\n",
       "      <td>7.459101</td>\n",
       "      <td>7.298546</td>\n",
       "      <td>False</td>\n",
       "      <td>9</td>\n",
       "      <td>9.037267</td>\n",
       "    </tr>\n",
       "    <tr>\n",
       "      <th>3</th>\n",
       "      <td>Thales Nogueira</td>\n",
       "      <td>941.536.207-34</td>\n",
       "      <td>20</td>\n",
       "      <td>F</td>\n",
       "      <td>helenasilva@example.com</td>\n",
       "      <td>658</td>\n",
       "      <td>NaN</td>\n",
       "      <td>8.187005</td>\n",
       "      <td>7.770323</td>\n",
       "      <td>True</td>\n",
       "      <td>2</td>\n",
       "      <td>5.559006</td>\n",
       "    </tr>\n",
       "    <tr>\n",
       "      <th>4</th>\n",
       "      <td>Sr. Emanuel Aragão</td>\n",
       "      <td>025.349.178-97</td>\n",
       "      <td>25</td>\n",
       "      <td>F</td>\n",
       "      <td>maria-eduardada-costa@example.net</td>\n",
       "      <td>787</td>\n",
       "      <td>9.227646</td>\n",
       "      <td>5.956309</td>\n",
       "      <td>8.626647</td>\n",
       "      <td>True</td>\n",
       "      <td>8</td>\n",
       "      <td>9.565217</td>\n",
       "    </tr>\n",
       "  </tbody>\n",
       "</table>\n",
       "</div>"
      ],
      "text/plain": [
       "                   Nome             CPF  Idade Sexo  \\\n",
       "0      Melissa Silveira  359.847.162-91     22    M   \n",
       "1          Sofia Mendes  360.852.471-17     20    M   \n",
       "2  Srta. Agatha Rezende  247.590.318-04     22    F   \n",
       "3       Thales Nogueira  941.536.207-34     20    F   \n",
       "4    Sr. Emanuel Aragão  025.349.178-97     25    F   \n",
       "\n",
       "                               Email  Nota_ENEM  CRA_2º_Semestre  \\\n",
       "0             bdas-neves@example.com        771              NaN   \n",
       "1         stephanyfogaca@example.org        777         6.466784   \n",
       "2           joao-lucas90@example.com        770         9.559240   \n",
       "3            helenasilva@example.com        658              NaN   \n",
       "4  maria-eduardada-costa@example.net        787         9.227646   \n",
       "\n",
       "   CRA_4º_Semestre  CRA_6º_Semestre  Abandono  Semestre_Abandono  \\\n",
       "0         5.491834         5.495809      True                  1   \n",
       "1         5.570117         8.355556     False                  7   \n",
       "2         7.459101         7.298546     False                  9   \n",
       "3         8.187005         7.770323      True                  2   \n",
       "4         5.956309         8.626647      True                  8   \n",
       "\n",
       "   Nota_ENEM_Ponderada  \n",
       "0             9.068323  \n",
       "1             9.254658  \n",
       "2             9.037267  \n",
       "3             5.559006  \n",
       "4             9.565217  "
      ]
     },
     "execution_count": 25,
     "metadata": {},
     "output_type": "execute_result"
    }
   ],
   "source": [
    "df.head()"
   ]
  },
  {
   "cell_type": "code",
   "execution_count": 26,
   "id": "09fdf09a",
   "metadata": {},
   "outputs": [],
   "source": [
    "def plot_top_10_notas(df):\n",
    "    top_10_masculino = df[df['Sexo'] == 'M']['Nota_ENEM_Ponderada'].nlargest(10).sort_values().reset_index(drop=True)\n",
    "    top_10_feminino = df[df['Sexo'] == 'F']['Nota_ENEM_Ponderada'].nlargest(10).sort_values().reset_index(drop=True)\n",
    "    top_10_notas_enem = df['Nota_ENEM_Ponderada'].nlargest(10).sort_values().reset_index(drop=True)\n",
    "    top_10_notas = df['CRA_2º_Semestre'].nlargest(10).sort_values().reset_index(drop=True)\n",
    "    top_10_notas_4 = df['CRA_4º_Semestre'].nlargest(10).sort_values().reset_index(drop=True)\n",
    "    top_10_notas_6 = df['CRA_6º_Semestre'].nlargest(10).sort_values().reset_index(drop=True)\n",
    "    \n",
    "    plt.figure(figsize=(10, 6))\n",
    "    \n",
    "    plt.plot(range(1, len(top_10_notas) + 1), top_10_notas, marker='d', linestyle='-', label='2º Semestre', color='blue')\n",
    "    plt.title('Evolução das 10 Maiores Notas do 2º Semestre')\n",
    "    \n",
    "    plt.plot(range(1, len(top_10_notas_4) + 1), top_10_notas_4, marker='x', linestyle='-', label='4º Semestre', color='orange')\n",
    "    plt.title('Evolução das 10 Maiores Notas do 4º Semestre')\n",
    "    \n",
    "    plt.plot(range(1, len(top_10_notas_6) + 1), top_10_notas_6, marker='^', linestyle='-', label='6º Semestre', color='green')\n",
    "    plt.title('Evolução das 10 Maiores Notas do 6º Semestre')\n",
    "    \n",
    "    plt.plot(range(1, len(top_10_masculino) + 1), top_10_masculino, marker='o', linestyle='-', label='Masculino Geral', color='red')\n",
    "    plt.plot(range(1, len(top_10_feminino) + 1), top_10_feminino, marker='s', linestyle='-', label='Feminino Geral', color='purple')\n",
    "    plt.title('Evolução das 10 Maiores Notas do ENEM Ponderadas por Sexo')\n",
    "    \n",
    "    plt.xlabel('Contagem de Alunos')\n",
    "    plt.ylabel('Nota ENEM Ponderada')\n",
    "    plt.legend()\n",
    "    plt.grid(True)\n",
    "    plt.show()"
   ]
  },
  {
   "cell_type": "code",
   "execution_count": 27,
   "id": "68e26621",
   "metadata": {},
   "outputs": [
    {
     "data": {
      "image/png": "[encoded data removed]",
      "text/plain": [
       "<Figure size 1000x600 with 1 Axes>"
      ]
     },
     "metadata": {},
     "output_type": "display_data"
    }
   ],
   "source": [
    "plot_top_10_notas(df)"
   ]
  },
  {
   "cell_type": "code",
   "execution_count": 28,
   "id": "c19750f4",
   "metadata": {},
   "outputs": [
    {
     "data": {
      "text/html": [
       "<div>\n",
       "<style scoped>\n",
       "    .dataframe tbody tr th:only-of-type {\n",
       "        vertical-align: middle;\n",
       "    }\n",
       "\n",
       "    .dataframe tbody tr th {\n",
       "        vertical-align: top;\n",
       "    }\n",
       "\n",
       "    .dataframe thead th {\n",
       "        text-align: right;\n",
       "    }\n",
       "</style>\n",
       "<table border=\"1\" class=\"dataframe\">\n",
       "  <thead>\n",
       "    <tr style=\"text-align: right;\">\n",
       "      <th></th>\n",
       "      <th>Idade</th>\n",
       "      <th>Nota_ENEM</th>\n",
       "      <th>CRA_2º_Semestre</th>\n",
       "      <th>CRA_4º_Semestre</th>\n",
       "      <th>CRA_6º_Semestre</th>\n",
       "      <th>Semestre_Abandono</th>\n",
       "      <th>Nota_ENEM_Ponderada</th>\n",
       "    </tr>\n",
       "  </thead>\n",
       "  <tbody>\n",
       "    <tr>\n",
       "      <th>count</th>\n",
       "      <td>1000.000000</td>\n",
       "      <td>1000.000000</td>\n",
       "      <td>900.000000</td>\n",
       "      <td>891.000000</td>\n",
       "      <td>896.000000</td>\n",
       "      <td>1000.000000</td>\n",
       "      <td>1000.000000</td>\n",
       "    </tr>\n",
       "    <tr>\n",
       "      <th>mean</th>\n",
       "      <td>22.982000</td>\n",
       "      <td>721.494000</td>\n",
       "      <td>7.539889</td>\n",
       "      <td>7.534072</td>\n",
       "      <td>7.455722</td>\n",
       "      <td>5.399000</td>\n",
       "      <td>7.530870</td>\n",
       "    </tr>\n",
       "    <tr>\n",
       "      <th>std</th>\n",
       "      <td>3.137438</td>\n",
       "      <td>45.522767</td>\n",
       "      <td>1.430995</td>\n",
       "      <td>1.429560</td>\n",
       "      <td>1.445621</td>\n",
       "      <td>2.779843</td>\n",
       "      <td>1.413751</td>\n",
       "    </tr>\n",
       "    <tr>\n",
       "      <th>min</th>\n",
       "      <td>18.000000</td>\n",
       "      <td>640.000000</td>\n",
       "      <td>5.016649</td>\n",
       "      <td>5.015396</td>\n",
       "      <td>5.004857</td>\n",
       "      <td>1.000000</td>\n",
       "      <td>5.000000</td>\n",
       "    </tr>\n",
       "    <tr>\n",
       "      <th>25%</th>\n",
       "      <td>20.000000</td>\n",
       "      <td>684.000000</td>\n",
       "      <td>6.370006</td>\n",
       "      <td>6.277135</td>\n",
       "      <td>6.159826</td>\n",
       "      <td>3.000000</td>\n",
       "      <td>6.366460</td>\n",
       "    </tr>\n",
       "    <tr>\n",
       "      <th>50%</th>\n",
       "      <td>23.000000</td>\n",
       "      <td>722.000000</td>\n",
       "      <td>7.567663</td>\n",
       "      <td>7.565867</td>\n",
       "      <td>7.530722</td>\n",
       "      <td>5.000000</td>\n",
       "      <td>7.546584</td>\n",
       "    </tr>\n",
       "    <tr>\n",
       "      <th>75%</th>\n",
       "      <td>26.000000</td>\n",
       "      <td>761.250000</td>\n",
       "      <td>8.752987</td>\n",
       "      <td>8.774293</td>\n",
       "      <td>8.666345</td>\n",
       "      <td>8.000000</td>\n",
       "      <td>8.765528</td>\n",
       "    </tr>\n",
       "    <tr>\n",
       "      <th>max</th>\n",
       "      <td>28.000000</td>\n",
       "      <td>800.000000</td>\n",
       "      <td>9.997843</td>\n",
       "      <td>9.997872</td>\n",
       "      <td>9.993683</td>\n",
       "      <td>10.000000</td>\n",
       "      <td>9.968944</td>\n",
       "    </tr>\n",
       "  </tbody>\n",
       "</table>\n",
       "</div>"
      ],
      "text/plain": [
       "             Idade    Nota_ENEM  CRA_2º_Semestre  CRA_4º_Semestre  \\\n",
       "count  1000.000000  1000.000000       900.000000       891.000000   \n",
       "mean     22.982000   721.494000         7.539889         7.534072   \n",
       "std       3.137438    45.522767         1.430995         1.429560   \n",
       "min      18.000000   640.000000         5.016649         5.015396   \n",
       "25%      20.000000   684.000000         6.370006         6.277135   \n",
       "50%      23.000000   722.000000         7.567663         7.565867   \n",
       "75%      26.000000   761.250000         8.752987         8.774293   \n",
       "max      28.000000   800.000000         9.997843         9.997872   \n",
       "\n",
       "       CRA_6º_Semestre  Semestre_Abandono  Nota_ENEM_Ponderada  \n",
       "count       896.000000        1000.000000          1000.000000  \n",
       "mean          7.455722           5.399000             7.530870  \n",
       "std           1.445621           2.779843             1.413751  \n",
       "min           5.004857           1.000000             5.000000  \n",
       "25%           6.159826           3.000000             6.366460  \n",
       "50%           7.530722           5.000000             7.546584  \n",
       "75%           8.666345           8.000000             8.765528  \n",
       "max           9.993683          10.000000             9.968944  "
      ]
     },
     "execution_count": 28,
     "metadata": {},
     "output_type": "execute_result"
    }
   ],
   "source": [
    "df.describe()"
   ]
  }
 ],
 "metadata": {
  "kernelspec": {
   "display_name": "Python 3 (ipykernel)",
   "language": "python",
   "name": "python3"
  },
  "language_info": {
   "codemirror_mode": {
    "name": "ipython",
    "version": 3
   },
   "file_extension": ".py",
   "mimetype": "text/x-python",
   "name": "python",
   "nbconvert_exporter": "python",
   "pygments_lexer": "ipython3",
   "version": "3.11.5"
  }
 },
 "nbformat": 4,
 "nbformat_minor": 5
}
